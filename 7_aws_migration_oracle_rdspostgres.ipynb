{
 "cells": [
  {
   "cell_type": "code",
   "execution_count": null,
   "id": "0c63b40d",
   "metadata": {
    "vscode": {
     "languageId": "plaintext"
    }
   },
   "outputs": [],
   "source": [
    "\n",
    "On the target PostgreSQL database, enable foreign key constraints and triggers using the script you saved previously.\n",
    "\n",
    "\n",
    "select count(*) \n",
    "from information_schema.table_constraints \n",
    "where table_schema in ('co','hr') and constraint_type = 'FOREIGN KEY';\n",
    "\"count\"\n",
    "  19\n",
    "\n",
    "select count(*) \n",
    "from information_schema.triggers\n",
    "where trigger_schema in ('co','hr');\n",
    "\"count\"\n",
    "   10"
   ]
  },
  {
   "cell_type": "code",
   "execution_count": null,
   "id": "2bd02c17",
   "metadata": {
    "vscode": {
     "languageId": "plaintext"
    }
   },
   "outputs": [],
   "source": [
    "Step 8: Cut Over to PostgreSQL\n",
    "------------------------------------------------\n",
    "\n",
    "To move connections from your Oracle database to your PostgreSQL database, do the following:\n",
    "\n",
    "End all Oracle database dependencies and activities, such as running scripts and client connections.\n",
    "\n",
    "        SELECT MACHINE, COUNT(*) FROM V$SESSION GROUP BY MACHINE;\n",
    "\n",
    "List any remaining sessions, and kill them.\n",
    "\n",
    "        SELECT SID, SERIAL#, STATUS FROM V$SESSION;\n",
    "\n",
    "        ALTER SYSTEM KILL 'sid, serial_number' IMMEDIATE;\n",
    "\n",
    "Shut down all listeners on the Oracle database.\n",
    "\n",
    "Let the AWS DMS task apply the final changes from the Oracle database on the PostgreSQL database\n",
    "\n",
    "    ALTER SYSTEM CHECKPOINT;\n",
    "\n",
    "In the AWS DMS console, stop the AWS DMS task by clicking Stop for the task, and confirm that you want to stop the task."
   ]
  }
 ],
 "metadata": {
  "language_info": {
   "name": "python"
  }
 },
 "nbformat": 4,
 "nbformat_minor": 5
}
